{
  "nbformat": 4,
  "nbformat_minor": 0,
  "metadata": {
    "colab": {
      "provenance": []
    },
    "kernelspec": {
      "name": "python3",
      "display_name": "Python 3"
    },
    "language_info": {
      "name": "python"
    }
  },
  "cells": [
    {
      "cell_type": "markdown",
      "source": [
        "**MY Task**"
      ],
      "metadata": {
        "id": "BUek5Anz1sEz"
      }
    },
    {
      "cell_type": "markdown",
      "source": [
        "## Introduction\n",
        "\n",
        "This notebook explores various concepts in data science, including programming languages, libraries, tools, and arithmetic expressions.\n"
      ],
      "metadata": {
        "id": "UEb9sjki1vti"
      }
    },
    {
      "cell_type": "markdown",
      "source": [
        "## Data Science Languages\n",
        "- Python\n",
        "- R\n",
        "- SQL\n",
        "- Julia\n"
      ],
      "metadata": {
        "id": "Nw-XF6Kg1yQE"
      }
    },
    {
      "cell_type": "markdown",
      "source": [
        "## Data Science Libraries\n",
        "- NumPy\n",
        "- Pandas\n",
        "- Matplotlib\n",
        "- Scikit-learn\n"
      ],
      "metadata": {
        "id": "BS-FTv0D10-A"
      }
    },
    {
      "cell_type": "markdown",
      "source": [
        "## Data Science Tools\n",
        "\n",
        "| Tool            | Description                               |\n",
        "|-----------------|-------------------------------------------|\n",
        "| Jupyter Notebook| Interactive computing environment         |\n",
        "| RStudio         | Integrated development environment for R   |\n",
        "| VSCode          | Lightweight code editor                   |\n",
        "| GoogleColab     | Cloud-based Jupyter notebook              |\n"
      ],
      "metadata": {
        "id": "p8xHAtyd13bE"
      }
    },
    {
      "cell_type": "code",
      "source": [
        "5+2"
      ],
      "metadata": {
        "colab": {
          "base_uri": "https://localhost:8080/"
        },
        "id": "jnH76Soa19NE",
        "outputId": "75ae955a-8025-4f55-a9be-eef7a3e1c219"
      },
      "execution_count": null,
      "outputs": [
        {
          "output_type": "execute_result",
          "data": {
            "text/plain": [
              "7"
            ]
          },
          "metadata": {},
          "execution_count": 3
        }
      ]
    },
    {
      "cell_type": "code",
      "source": [],
      "metadata": {
        "id": "yjC8n24w2BQa"
      },
      "execution_count": null,
      "outputs": []
    },
    {
      "cell_type": "code",
      "source": [
        "# Multiplication\n",
        "result_multiply = 5 * 10\n",
        "print(\"Multiplication Result:\", result_multiply)\n",
        "\n",
        "# Addition\n",
        "result_add = 20 + 30\n",
        "print(\"Addition Result:\", result_add)\n"
      ],
      "metadata": {
        "colab": {
          "base_uri": "https://localhost:8080/"
        },
        "id": "62m_02VN2Scz",
        "outputId": "a93cd326-d331-4be6-e75e-f05af72cf45b"
      },
      "execution_count": null,
      "outputs": [
        {
          "output_type": "stream",
          "name": "stdout",
          "text": [
            "Multiplication Result: 50\n",
            "Addition Result: 50\n"
          ]
        }
      ]
    },
    {
      "cell_type": "code",
      "source": [
        "# Conversion from minutes to hours\n",
        "minutes = 120\n",
        "hours = minutes / 60\n",
        "print(\"120 minutes is equal to\", hours, \"hours.\")\n"
      ],
      "metadata": {
        "colab": {
          "base_uri": "https://localhost:8080/"
        },
        "id": "482W3mPP2V5m",
        "outputId": "b22fe1b5-857f-426a-cd28-138dfdc65698"
      },
      "execution_count": null,
      "outputs": [
        {
          "output_type": "stream",
          "name": "stdout",
          "text": [
            "120 minutes is equal to 2.0 hours.\n"
          ]
        }
      ]
    },
    {
      "cell_type": "markdown",
      "source": [
        "## Objectives\n",
        "\n",
        "1. Explore data science languages and libraries.\n",
        "2. Understand basic arithmetic expressions.\n",
        "3. Familiarize with data science tools.\n"
      ],
      "metadata": {
        "id": "93ONs1l42ZZD"
      }
    },
    {
      "cell_type": "markdown",
      "source": [
        "## Author\n",
        "Anushalini\n"
      ],
      "metadata": {
        "id": "FBXV02nE2bml"
      }
    }
  ]
}